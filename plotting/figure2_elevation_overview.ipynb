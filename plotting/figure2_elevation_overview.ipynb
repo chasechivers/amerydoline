{
 "cells": [
  {
   "cell_type": "code",
   "execution_count": 1,
   "id": "6b38efa5",
   "metadata": {},
   "outputs": [],
   "source": [
    "import numpy as np\n",
    "import xarray as xr\n",
    "\n",
    "from tools.landsat_utils import easy_raster, normalize_band as normalize\n",
    "from tools.utils import create_polydict_ptsarr, xy2ll, directory_spider\n",
    "from tools.dem_utils import sample_along_profile\n",
    "from tools.flexural_fitting import fitting_REMA_dh\n",
    "\n",
    "import matplotlib.pyplot as plt\n",
    "import cmcrameri.cm as cmc\n",
    "from tools.plot_tools import plot_latlon_lines, shifted_colormap\n",
    "from matplotlib import gridspec\n",
    "from mpl_toolkits.axes_grid1.inset_locator import inset_axes\n",
    "from mpl_toolkits.axes_grid1.anchored_artists import AnchoredSizeBar"
   ]
  },
  {
   "cell_type": "code",
   "execution_count": 2,
   "id": "4f78bd38",
   "metadata": {},
   "outputs": [],
   "source": [
    "import plotSettings\n",
    "COLS = plotSettings.COLS\n",
    "plotSettings.paper()"
   ]
  },
  {
   "cell_type": "code",
   "execution_count": 3,
   "id": "97220215",
   "metadata": {},
   "outputs": [],
   "source": [
    "%matplotlib tk"
   ]
  },
  {
   "cell_type": "code",
   "execution_count": 4,
   "id": "ead2346c",
   "metadata": {},
   "outputs": [],
   "source": [
    "# general data directory\n",
    "data_dir = '/'"
   ]
  },
  {
   "cell_type": "code",
   "execution_count": 5,
   "id": "5b9909f6",
   "metadata": {},
   "outputs": [
    {
     "name": "stdout",
     "output_type": "stream",
     "text": [
      "loading mask\n"
     ]
    }
   ],
   "source": [
    "collapse_dirs = ['data/LandSat8-9_Color/LC08_L1GT_125111_20150329_20200909_02_T2',                  \n",
    "                 'data/LandSat8-9_Color/LC08_L1GT_127111_20161210_20201016_02_T2'\n",
    "                ]\n",
    "REMA_files = ['data/REMA/2014/SETSM_BBMASKED_s2s041_WV02_20140302_103001002EB86900_103001002D317400_2m_lsf_seg1_dem.tif',\n",
    "              'data/REMA/2016/SETSM_BBMASKED_s2s041_WV01_20161206_102001005547E000_1020010059AF2400_2m_lsf_seg1_dem.tif',\n",
    "              'data/REMA/2019/SETSM_BBMASKED_s2s041_WV01_20191119_102001008C642200_102001008F9B8C00_2m_lsf_seg1_dem.tif',\n",
    "              'data/REMA/2021/SETSM_BBMASKED_s2s041_WV03_20211010_104001006C7FF100_104001006E0B1400_2m_lsf_seg1_dem.tif'\n",
    "             ]\n",
    "\n",
    "LagrangianDiff_files = ['data/REMA/LagrangianDifferencing/lagrangian_demdiff_2016-2014.nc',\n",
    "                        'data/REMA/LagrangianDifferencing/lagrangian_demdiff_2021-2014.nc'\n",
    "                       ]\n",
    "\n",
    "masked_IS2 = directory_spider(data_dir, path_pattern='ICESat', file_pattern='.pkl')\n",
    "masked_IS2 = [file for file in masked_IS2 if '._' not in file]\n",
    "TRKS = ['0401', '0470', '0843', '0']\n",
    "is2_files = []\n",
    "is2_files.append([file for file in masked_IS2 if f'/2019/' in file and f'/0401/' in file][1])\n",
    "is2_files.append([file for file in masked_IS2 if f'/2019/' in file and f'/0470/' in file][0])\n",
    "is2_files.append([file for file in masked_IS2 if f'/2018/' in file and f'/0843/' in file][0])\n",
    "\n",
    "# bounding box locations for context image\n",
    "bb_filename = os.path.join(data_dir, 'GIS/BoundingBoxes2.shp')\n",
    "print('loading mask')\n",
    "bbdict, bbpts = create_polydict_ptsarr(bb_filename)\n",
    "mask = bbdict[0]"
   ]
  },
  {
   "cell_type": "code",
   "execution_count": 6,
   "id": "4bdaa3b2",
   "metadata": {
    "scrolled": false
   },
   "outputs": [
    {
     "name": "stdout",
     "output_type": "stream",
     "text": [
      "['LC08_L1GT_125111_20150329_20200909_02_T2_B2.TIF', '._LC08_L1GT_125111_20150329_20200909_02_T2_B2.TIF']\n",
      "['LC08_L1GT_127111_20161210_20201016_02_T2_B2.TIF', '._LC08_L1GT_127111_20161210_20201016_02_T2_B2.TIF']\n",
      "260 35\n",
      "239 42\n",
      "262 45\n"
     ]
    }
   ],
   "source": [
    "SAVE = False\n",
    "fig_save_dir = 'figs'\n",
    "fig_type = '.svg'\n",
    "save_name = 'figure2'\n",
    "\n",
    "left, bottom, right, top = mask.bounds\n",
    "# max and minimum uplift\n",
    "dh_min, dh_max = -20, 7\n",
    "# colormap for elevation differences, \"centered\" at dh = 0\n",
    "scmap = shifted_colormap(cmc.vik, midpoint=1 - (dh_max) / (dh_max + abs(dh_min)))\n",
    "# colormap for elevations\n",
    "elev_cmap = cmc.batlowW\n",
    "\n",
    "#############################################################################################################\n",
    "# set up figure\n",
    "#############################################################################################################\n",
    "plt.close('all')\n",
    "fig = plt.figure(num=1,clear=1,\n",
    "                 figsize=[14.53866667,  9.52533333])\n",
    "\n",
    "PARENT = gridspec.GridSpec(3,2*2, figure=fig, height_ratios=[1.5,1,1])\n",
    "\n",
    "gs0 = gridspec.GridSpecFromSubplotSpec(1,3, subplot_spec=PARENT[0,:], wspace=0.03)\n",
    "imaxs = [fig.add_subplot(gs0[i]) for i in range(3)]\n",
    "\n",
    "gs1 = gridspec.GridSpecFromSubplotSpec(2,2, subplot_spec=PARENT[1:,:],\n",
    "                                       hspace=0.01, wspace=0.01)\n",
    "REMA_profs = [fig.add_subplot(gs1[0,0]), fig.add_subplot(gs1[0,1])]\n",
    "IS2_profs = fig.add_subplot(gs1[1,1])\n",
    "\n",
    "#############################################################################################################\n",
    "# context images\n",
    "#############################################################################################################\n",
    "ll=xy2ll(left, bottom), xy2ll(left, top), xy2ll(right, top), xy2ll(right, bottom)\n",
    "ll=np.array(ll)\n",
    "lon_range = [ll[:,0].min(), ll[:,0].max()]\n",
    "lat_range = [ll[:,1].min(), ll[:,1].max()]\n",
    "\n",
    "for i, ax in enumerate(imaxs[:2]):\n",
    "    red,green,blue='B4','B3','B2'\n",
    "    bands=['B2','B3','B4','B8']\n",
    "    rast = easy_raster(os.path.join(data_dir, collapse_dirs[i]),\n",
    "                       bands=bands,\n",
    "                       mask=mask,\n",
    "                       always_TOA=True)\n",
    "    ax.imshow(rast.masked['B8'], cmap=plt.cm.gray, extent=(left, right, bottom, top), rasterized=True)\n",
    "    ax = plot_latlon_lines(ax, lat_range=lat_range, lon_range=lon_range,\n",
    "                            extents=(left, right, bottom, top),\n",
    "                            lon_text=True if i == 0 else False)\n",
    "    ax.set(ylim=(bottom, top), xlim=(left, right),\n",
    "           yticklabels=[], xticklabels=[],\n",
    "           xticks=[], yticks=[])\n",
    "    \n",
    "    scalebar = AnchoredSizeBar(ax.transData,\n",
    "                               1e3, '1 km', 'lower right', \n",
    "                               pad=1,\n",
    "                               frameon=False,\n",
    "                               size_vertical=100,\n",
    "                              )\n",
    "\n",
    "    ax.add_artist(scalebar)\n",
    "    [a.set_linewidth(1) for _,a in ax.spines.items()]\n",
    "\n",
    "#############################################################################################################\n",
    "# DEM/DEM difference overlays\n",
    "#############################################################################################################\n",
    "ds = xr.open_dataset(os.path.join(data_dir, LagrangianDiff_files[0]))\n",
    "\n",
    "p = imaxs[-1].imshow(ds.dh, \n",
    "                 extent=(left, right, bottom, top),\n",
    "                 vmin=-20, vmax=7, cmap=scmap)\n",
    "imaxs[-1].set(ylim=(bottom, top), xlim=(left, right),\n",
    "              yticklabels=[], xticklabels=[],\n",
    "              xticks=[], yticks=[])\n",
    "imaxs[-1] = plot_latlon_lines(imaxs[-1], lat_range=lat_range, lon_range=lon_range,\n",
    "                              extents=(left, right, bottom, top),\n",
    "                              lon_text=False)\n",
    "\n",
    "inset = imaxs[-1].inset_axes([0.1, 0.166, 1-0.433, 0.07])\n",
    "inset.xaxis.set_ticks_position('bottom')\n",
    "cb = fig.colorbar(p, cax=inset, \n",
    "                  label='Elevation difference $\\Delta h$ (m)',\n",
    "                  orientation='horizontal', extend='both',\n",
    "                 )\n",
    "cb.set_ticks([dh_min, 0, dh_max])\n",
    "[a.set_linewidth(1) for _,a in imaxs[-1].spines.items()]\n",
    "\n",
    "\n",
    "dem1 = ds.dem1_lagrangian.values.copy()\n",
    "s = np.nanstd(dem1)\n",
    "dem1[dem1 < 80] = np.nan\n",
    "dem1[dem1 > 140] = np.nan\n",
    "\n",
    "p = imaxs[0].contourf(ds.x[::50], ds.y[::50], dem1[::50, ::50],\n",
    "                        vmin=84, vmax=132, cmap=cmc.lapaz, alpha=0.5)\n",
    "inset = imaxs[0].inset_axes([0.1, 0.166, 1-0.433, 0.07])#1-0.433, 0.07])\n",
    "inset.xaxis.set_ticks_position('bottom')\n",
    "cb = fig.colorbar(p, cax=inset, \n",
    "                  label='Surface elevation (m)',\n",
    "                  orientation='horizontal',\n",
    "                 )\n",
    "cbticks = ['{0}'.format(f'{v:0.0f}' if i%2==0 else '') for i, v in enumerate(cb.get_ticks())]\n",
    "cb.set_ticklabels(cbticks)\n",
    "\n",
    "dem2 = ds.dem2.values.copy()\n",
    "s = np.nanstd(dem2)\n",
    "dem2[dem2 < 80] = np.nan\n",
    "dem2[dem2 > 140] = np.nan\n",
    "\n",
    "p = imaxs[1].contourf(ds.x[::50], ds.y[::50], dem2[::50, ::50],\n",
    "                        vmin=84, vmax=132, cmap=cmc.lapaz, alpha=0.5)\n",
    "\n",
    "inset = imaxs[1].inset_axes([0.1, 0.166, 1-0.433, 0.07])#1-0.433, 0.07])\n",
    "inset.xaxis.set_ticks_position('bottom')\n",
    "cb = fig.colorbar(p, cax=inset, \n",
    "                  label='Surface elevation (m)',\n",
    "                  orientation='horizontal',\n",
    "                 )\n",
    "\n",
    "cbticks = ['{0}'.format(f'{v:0.0f}' if i%2==0 else '') for i, v in enumerate(cb.get_ticks())]\n",
    "cb.set_ticklabels(cbticks)\n",
    "\n",
    "#############################################################################################################\n",
    "# DEM/DEM difference overlays\n",
    "#############################################################################################################\n",
    "for i, f in enumerate(is2_files):\n",
    "    ans = fitting_REMA_dh(f, os.path.join(data_dir, LagrangianDiff_files[0]),\n",
    "                          gt='gt3' if ('/0843/' in f or '/0028/' in f) else 'gt1',\n",
    "                          \n",
    "                         )\n",
    "    x_is2, y_is2, lat, lon, h_is2, r, dh_rema, uplift, surface, C_C = ans\n",
    "    IS2_profs.plot(lat, h_is2, c=COLS[i])\n",
    "    \n",
    "    h = sample_along_profile(ds, 'dem1_lagrangian', x_is2, y_is2)\n",
    "    REMA_profs[0].plot(lat, h, c=COLS[i])\n",
    "    \n",
    "    h = sample_along_profile(ds, 'dem2', x_is2, y_is2)\n",
    "    REMA_profs[1].plot(lat, h, c=COLS[i])\n",
    "    \n",
    "    [ax.plot(x_is2, y_is2, c=COLS[i]) for ax in imaxs]\n",
    "    \n",
    "h_ylims = [np.min([REMA_profs[0].get_ylim()[0], REMA_profs[1].get_ylim()[0], IS2_profs.get_ylim()[0]]),\n",
    "           np.max([REMA_profs[0].get_ylim()[1], REMA_profs[1].get_ylim()[1], IS2_profs.get_ylim()[0]])\n",
    "          ]\n",
    "yticks = [a for a in cb.get_ticks() if (a >= h_ylims[0] and a <= h_ylims[1])]\n",
    "xticks = [-72.05 - 0.025, -72.05, -72.025, -72.0, -72 + 0.025]\n",
    "xticklabels = ['{0}°'.format(f'{v:0.2f}')  for i,v in enumerate(xticks)]\n",
    "\n",
    "for ax in [REMA_profs[0], REMA_profs[1], IS2_profs]:\n",
    "    ax.set_xlim(lat_range)\n",
    "    ax.set_ylim(h_ylims)   \n",
    "    ax.set_xticks(xticks)\n",
    "    ax.set_xticklabels(xticklabels)\n",
    "    [ax.axvline(v, c='k', ls='--', lw=0.3) for v in [-72.05, -72.0]]\n",
    "    ax.set_yticks(yticks)\n",
    "\n",
    "    \n",
    "REMA_profs[1].set(xticklabels=[], yticklabels=[])\n",
    "REMA_profs[0].set(xlabel='Latitiude', ylabel='Surface elevation (m)')\n",
    "IS2_profs.set(xlabel='Latitude', ylabel='Surface elevation (m)')\n",
    "\n",
    "if SAVE:\n",
    "    plt.savefig(os.path.join(fig_save_dir, save_name + fig_type), dpi=600)"
   ]
  },
  {
   "cell_type": "code",
   "execution_count": 24,
   "id": "983e5ecf",
   "metadata": {},
   "outputs": [
    {
     "data": {
      "text/plain": [
       "[90.0, 96.0, 102.0, 108.0, 114.0]"
      ]
     },
     "execution_count": 24,
     "metadata": {},
     "output_type": "execute_result"
    }
   ],
   "source": []
  },
  {
   "cell_type": "code",
   "execution_count": 23,
   "id": "f398ca84",
   "metadata": {},
   "outputs": [
    {
     "data": {
      "text/plain": [
       "117.70625"
      ]
     },
     "execution_count": 23,
     "metadata": {},
     "output_type": "execute_result"
    }
   ],
   "source": [
    "h_ylims[1]"
   ]
  },
  {
   "cell_type": "code",
   "execution_count": 10,
   "id": "26871ad2",
   "metadata": {},
   "outputs": [
    {
     "data": {
      "text/plain": [
       "['<generator object <genexpr> at 0x2a409d690>']"
      ]
     },
     "execution_count": 10,
     "metadata": {},
     "output_type": "execute_result"
    }
   ],
   "source": [
    "xticklabels"
   ]
  },
  {
   "cell_type": "code",
   "execution_count": null,
   "id": "ca849a6d",
   "metadata": {},
   "outputs": [],
   "source": [
    "fig = plt.figure()\n",
    "ax = fig.add_subplot(111, projection='3d')\n",
    "for f in is2_files:\n",
    "    ans = fitting_REMA_dh(f, os.path.join(data_dir, LagrangianDiff_files[0]),\n",
    "                          gt='gt3' if ('/0843/' in f or '/0028/' in f) else 'gt1',\n",
    "                          beam='L'\n",
    "                         )\n",
    "    x_is2, y_is2, lat, lon, h_is2, r, dh_rema, uplift, surface, C_C = ans\n",
    "    ax.plot(lon, lat, h_is2)\n",
    "    \n",
    "\n",
    "ax.set(xlim=lon_range, ylim=lat_range, zlim=h_ylims,\n",
    "       yticks=[lat_range[0], -72.05, -72, lat_range[1]], \n",
    "       yticklabels=['{0:0.02f}'.format(s) for s in [lat_range[0], -72.05, -72, lat_range[1]]],\n",
    "       xticks=[lon_range[0], 69.45, 69.6, lon_range[1]], \n",
    "       xticklabels=['{0:0.02f}'.format(s) for s in [lon_range[0], 69.45, 69.6, lon_range[1]]]\n",
    "      )\n",
    "ax.grid(which='major', axis='x', c='k', ls='--', lw=0.3, alpha=1)\n",
    "# make the panes transparent\n",
    "ax.xaxis.set_pane_color((1.0, 1.0, 1.0, 0.0))\n",
    "ax.yaxis.set_pane_color((1.0, 1.0, 1.0, 0.0))\n",
    "ax.zaxis.set_pane_color((1.0, 1.0, 1.0, 0.0))\n",
    "# make the grid lines transparent\n",
    "# ax.xaxis._axinfo[\"grid\"]['color'] =  (1,1,1,0)\n",
    "# ax.yaxis._axinfo[\"grid\"]['color'] =  (1,1,1,0)\n",
    "# ax.zaxis._axinfo[\"grid\"]['color'] =  (1,1,1,0)\n",
    "ax.set_aspect('equal')"
   ]
  },
  {
   "cell_type": "code",
   "execution_count": null,
   "id": "9df7c1c6",
   "metadata": {},
   "outputs": [],
   "source": [
    "plt.figure()\n",
    "plt.contourf(ds.x[::50], ds.y[::50], dem1[::50, ::50],\n",
    "             vmin=84, vmax=132, cmap=cmc.buda, alpha=0.5,\n",
    "            )#linewidths=10)"
   ]
  },
  {
   "cell_type": "code",
   "execution_count": null,
   "id": "f842f895",
   "metadata": {},
   "outputs": [],
   "source": [
    "plt.plot(lat, h)\n",
    "plt.gca().set_xticks([lat_range[0], -72.05, -72, lat_range[1]])\n",
    "plt.gca().set_xticklabels(['{0:0.02f}'.format(s) for s in [lat_range[0], -72.05, -72, lat_range[1]]]) \n",
    "plt.grid(which='major', axis='x', c='k', ls='--', lw=0.3, alpha=1)"
   ]
  },
  {
   "cell_type": "code",
   "execution_count": null,
   "id": "2f5a0206",
   "metadata": {},
   "outputs": [],
   "source": []
  },
  {
   "cell_type": "code",
   "execution_count": null,
   "id": "b505f59b",
   "metadata": {},
   "outputs": [],
   "source": [
    "plt.contour(ds.x, ds.y, ds.dem1_lagrangian, levels=np.arange(80, 140, 5))\n",
    "plt.colorbar()"
   ]
  },
  {
   "cell_type": "code",
   "execution_count": null,
   "id": "d0421fc2",
   "metadata": {},
   "outputs": [],
   "source": [
    "dem1 = ds.dem1_lagrangian.values.copy()\n",
    "s = np.nanstd(dem1)\n",
    "dem1[dem1 < 80] = np.nan\n",
    "dem1[dem1 > 140] = np.nan\n",
    "\n",
    "plt.contour(ds.x, ds.y, dem1, levels=np.arange(80, 140, 5))\n",
    "plt.colorbar()"
   ]
  },
  {
   "cell_type": "code",
   "execution_count": null,
   "id": "61afa710",
   "metadata": {},
   "outputs": [],
   "source": [
    "from scipy import interpolate"
   ]
  },
  {
   "cell_type": "code",
   "execution_count": null,
   "id": "2b63f210",
   "metadata": {},
   "outputs": [],
   "source": [
    "# FUN = interpolate.interp2d(ds.x, ds.y, dem1)\n",
    "FUN = interpolate.RectBivariateSpline(np.flip(ds.y.values), ds.x, dem1)\n",
    "# i\n",
    "# FUN = interpolate.RegularGridInterpolator((ds.y, ds.x), dem1, \n",
    "#                                           method='slinear', bounds_error=False, fill_value=np.nan)"
   ]
  },
  {
   "cell_type": "code",
   "execution_count": null,
   "id": "b20a4b98",
   "metadata": {},
   "outputs": [],
   "source": [
    "np.flip(np.array(ds.y.values))"
   ]
  },
  {
   "cell_type": "code",
   "execution_count": null,
   "id": "49f33745",
   "metadata": {},
   "outputs": [],
   "source": [
    "X,Y = np.linspace(np.min(ds.x), np.max(ds.x), 100), np.linspace(np.min(ds.y), np.max(ds.y), 100)\n",
    "X,Y = np.meshgrid(X,Y)\n",
    "PTS = np.array(list(zip(Y.flatten(), X.flatten())))\n",
    "plt.contour(X,Y, FUN(Y,X), \n",
    "            levels=np.arange(80, 140, 3), lw=0.1, cmap='gist_earth')"
   ]
  },
  {
   "cell_type": "code",
   "execution_count": null,
   "id": "c3d48cc7",
   "metadata": {},
   "outputs": [],
   "source": [
    "FUN(PTS)"
   ]
  },
  {
   "cell_type": "code",
   "execution_count": null,
   "id": "d9bb92ed",
   "metadata": {},
   "outputs": [],
   "source": [
    "plt.contour(ds.x[::50], ds.y[::50], dem1[::50, ::50],\n",
    "            levels=np.arange(80, 140, 2), lw=0.1, cmap='gist_earth')"
   ]
  },
  {
   "cell_type": "code",
   "execution_count": null,
   "id": "7ca0f6de",
   "metadata": {},
   "outputs": [],
   "source": []
  }
 ],
 "metadata": {
  "kernelspec": {
   "display_name": "Python 3 (ipykernel)",
   "language": "python",
   "name": "python3"
  },
  "language_info": {
   "codemirror_mode": {
    "name": "ipython",
    "version": 3
   },
   "file_extension": ".py",
   "mimetype": "text/x-python",
   "name": "python",
   "nbconvert_exporter": "python",
   "pygments_lexer": "ipython3",
   "version": "3.10.4"
  }
 },
 "nbformat": 4,
 "nbformat_minor": 5
}
